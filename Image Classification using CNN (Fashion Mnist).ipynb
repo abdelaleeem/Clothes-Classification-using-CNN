{
 "cells": [
  {
   "cell_type": "code",
   "execution_count": 1,
   "metadata": {},
   "outputs": [],
   "source": [
    "import torch\n",
    "from torch import nn\n",
    "from torchmetrics import Accuracy\n",
    "import sklearn\n",
    "import matplotlib.pyplot as plt\n",
    "from sklearn.model_selection import train_test_split\n",
    "import numpy as np\n",
    "import pandas as pd\n",
    "import os\n",
    "import torchvision\n",
    "from torchvision import transforms , datasets\n",
    "from torchvision.transforms import ToTensor\n",
    "from torch.utils.data import DataLoader\n",
    "from tqdm.auto import tqdm\n",
    "from timeit import default_timer as timer"
   ]
  },
  {
   "cell_type": "code",
   "execution_count": 2,
   "metadata": {},
   "outputs": [
    {
     "name": "stdout",
     "output_type": "stream",
     "text": [
      "Directory changed to: D:\\data science\\fashion mnist dataset\n"
     ]
    }
   ],
   "source": [
    "new_path = r\"D:\\data science\\fashion mnist dataset\"  # Replace with your desired path\n",
    "os.chdir(new_path)\n",
    "print(\"Directory changed to:\", os.getcwd())"
   ]
  },
  {
   "cell_type": "code",
   "execution_count": 3,
   "metadata": {},
   "outputs": [],
   "source": [
    "train_data = datasets.FashionMNIST(\n",
    "    root = r\"D:\\data science\\fashion mnist dataset\" , \n",
    "    train = True , #if true get training data else: get test data\n",
    "    download = True,\n",
    "    transform= torchvision.transforms.ToTensor(), #how do we want to transform the data\n",
    "    target_transform= None # how do we want to transform the labels\n",
    ")\n",
    "\n",
    "test_data = train_data = datasets.FashionMNIST(\n",
    "    root = r\"D:\\data science\\fashion mnist dataset\" , \n",
    "    train = False , #if true get training data else: get test data\n",
    "    download = True,\n",
    "    transform= torchvision.transforms.ToTensor(), #how do we want to transform the data\n",
    ")"
   ]
  },
  {
   "cell_type": "code",
   "execution_count": 4,
   "metadata": {},
   "outputs": [
    {
     "data": {
      "text/plain": [
       "10000"
      ]
     },
     "execution_count": 4,
     "metadata": {},
     "output_type": "execute_result"
    }
   ],
   "source": [
    "len(train_data)"
   ]
  },
  {
   "cell_type": "code",
   "execution_count": 5,
   "metadata": {},
   "outputs": [
    {
     "data": {
      "text/plain": [
       "10000"
      ]
     },
     "execution_count": 5,
     "metadata": {},
     "output_type": "execute_result"
    }
   ],
   "source": [
    "len(test_data)"
   ]
  },
  {
   "cell_type": "code",
   "execution_count": 6,
   "metadata": {},
   "outputs": [
    {
     "data": {
      "text/plain": [
       "(tensor([[[0.0000, 0.0000, 0.0000, 0.0000, 0.0000, 0.0000, 0.0000, 0.0000,\n",
       "           0.0000, 0.0000, 0.0000, 0.0000, 0.0000, 0.0000, 0.0000, 0.0000,\n",
       "           0.0000, 0.0000, 0.0000, 0.0000, 0.0000, 0.0000, 0.0000, 0.0000,\n",
       "           0.0000, 0.0000, 0.0000, 0.0000],\n",
       "          [0.0000, 0.0000, 0.0000, 0.0000, 0.0000, 0.0000, 0.0000, 0.0000,\n",
       "           0.0000, 0.0000, 0.0000, 0.0000, 0.0000, 0.0000, 0.0000, 0.0000,\n",
       "           0.0000, 0.0000, 0.0000, 0.0000, 0.0000, 0.0000, 0.0000, 0.0000,\n",
       "           0.0000, 0.0000, 0.0000, 0.0000],\n",
       "          [0.0000, 0.0000, 0.0000, 0.0000, 0.0000, 0.0000, 0.0000, 0.0000,\n",
       "           0.0000, 0.0000, 0.0000, 0.0000, 0.0000, 0.0000, 0.0000, 0.0000,\n",
       "           0.0000, 0.0000, 0.0000, 0.0000, 0.0000, 0.0000, 0.0000, 0.0000,\n",
       "           0.0000, 0.0000, 0.0000, 0.0000],\n",
       "          [0.0000, 0.0000, 0.0000, 0.0000, 0.0000, 0.0000, 0.0000, 0.0000,\n",
       "           0.0000, 0.0000, 0.0000, 0.0000, 0.0000, 0.0000, 0.0000, 0.0000,\n",
       "           0.0000, 0.0000, 0.0000, 0.0000, 0.0000, 0.0000, 0.0000, 0.0000,\n",
       "           0.0000, 0.0000, 0.0000, 0.0000],\n",
       "          [0.0000, 0.0000, 0.0000, 0.0000, 0.0000, 0.0000, 0.0000, 0.0000,\n",
       "           0.0000, 0.0000, 0.0000, 0.0000, 0.0000, 0.0000, 0.0000, 0.0000,\n",
       "           0.0000, 0.0000, 0.0000, 0.0000, 0.0000, 0.0000, 0.0000, 0.0000,\n",
       "           0.0000, 0.0000, 0.0000, 0.0000],\n",
       "          [0.0000, 0.0000, 0.0000, 0.0000, 0.0000, 0.0000, 0.0000, 0.0000,\n",
       "           0.0000, 0.0000, 0.0000, 0.0000, 0.0000, 0.0000, 0.0000, 0.0000,\n",
       "           0.0000, 0.0000, 0.0000, 0.0000, 0.0000, 0.0000, 0.0000, 0.0000,\n",
       "           0.0000, 0.0000, 0.0000, 0.0000],\n",
       "          [0.0000, 0.0000, 0.0000, 0.0000, 0.0000, 0.0000, 0.0000, 0.0000,\n",
       "           0.0000, 0.0000, 0.0000, 0.0000, 0.0000, 0.0000, 0.0000, 0.0000,\n",
       "           0.0000, 0.0000, 0.0000, 0.0000, 0.0000, 0.0000, 0.0000, 0.0000,\n",
       "           0.0000, 0.0000, 0.0000, 0.0000],\n",
       "          [0.0000, 0.0000, 0.0000, 0.0000, 0.0000, 0.0000, 0.0000, 0.0000,\n",
       "           0.0000, 0.0000, 0.0000, 0.0000, 0.0000, 0.0000, 0.0000, 0.0000,\n",
       "           0.0000, 0.0000, 0.0000, 0.0118, 0.0039, 0.0000, 0.0000, 0.0275,\n",
       "           0.0000, 0.1451, 0.0000, 0.0000],\n",
       "          [0.0000, 0.0000, 0.0000, 0.0000, 0.0000, 0.0000, 0.0000, 0.0000,\n",
       "           0.0000, 0.0000, 0.0000, 0.0000, 0.0000, 0.0039, 0.0078, 0.0000,\n",
       "           0.1059, 0.3294, 0.0431, 0.0000, 0.0000, 0.0000, 0.0000, 0.0000,\n",
       "           0.0000, 0.4667, 0.0000, 0.0000],\n",
       "          [0.0000, 0.0000, 0.0000, 0.0000, 0.0000, 0.0000, 0.0000, 0.0000,\n",
       "           0.0000, 0.0000, 0.0000, 0.0000, 0.0000, 0.0039, 0.0000, 0.0000,\n",
       "           0.3451, 0.5608, 0.4314, 0.0000, 0.0000, 0.0000, 0.0000, 0.0863,\n",
       "           0.3647, 0.4157, 0.0000, 0.0000],\n",
       "          [0.0000, 0.0000, 0.0000, 0.0000, 0.0000, 0.0000, 0.0000, 0.0000,\n",
       "           0.0000, 0.0000, 0.0000, 0.0000, 0.0000, 0.0157, 0.0000, 0.2078,\n",
       "           0.5059, 0.4706, 0.5765, 0.6863, 0.6157, 0.6510, 0.5294, 0.6039,\n",
       "           0.6588, 0.5490, 0.0000, 0.0000],\n",
       "          [0.0000, 0.0000, 0.0000, 0.0000, 0.0000, 0.0000, 0.0000, 0.0000,\n",
       "           0.0000, 0.0000, 0.0000, 0.0000, 0.0078, 0.0000, 0.0431, 0.5373,\n",
       "           0.5098, 0.5020, 0.6275, 0.6902, 0.6235, 0.6549, 0.6980, 0.5843,\n",
       "           0.5922, 0.5647, 0.0000, 0.0000],\n",
       "          [0.0000, 0.0000, 0.0000, 0.0000, 0.0000, 0.0000, 0.0039, 0.0000,\n",
       "           0.0078, 0.0039, 0.0000, 0.0118, 0.0000, 0.0000, 0.4510, 0.4471,\n",
       "           0.4157, 0.5373, 0.6588, 0.6000, 0.6118, 0.6471, 0.6549, 0.5608,\n",
       "           0.6157, 0.6196, 0.0431, 0.0000],\n",
       "          [0.0000, 0.0000, 0.0000, 0.0000, 0.0039, 0.0000, 0.0000, 0.0000,\n",
       "           0.0000, 0.0000, 0.0118, 0.0000, 0.0000, 0.3490, 0.5451, 0.3529,\n",
       "           0.3686, 0.6000, 0.5843, 0.5137, 0.5922, 0.6627, 0.6745, 0.5608,\n",
       "           0.6235, 0.6627, 0.1882, 0.0000],\n",
       "          [0.0000, 0.0000, 0.0000, 0.0000, 0.0000, 0.0000, 0.0078, 0.0157,\n",
       "           0.0039, 0.0000, 0.0000, 0.0000, 0.3843, 0.5333, 0.4314, 0.4275,\n",
       "           0.4314, 0.6353, 0.5294, 0.5647, 0.5843, 0.6235, 0.6549, 0.5647,\n",
       "           0.6196, 0.6627, 0.4667, 0.0000],\n",
       "          [0.0000, 0.0000, 0.0078, 0.0078, 0.0039, 0.0078, 0.0000, 0.0000,\n",
       "           0.0000, 0.0000, 0.1020, 0.4235, 0.4588, 0.3882, 0.4353, 0.4588,\n",
       "           0.5333, 0.6118, 0.5255, 0.6039, 0.6039, 0.6118, 0.6275, 0.5529,\n",
       "           0.5765, 0.6118, 0.6980, 0.0000],\n",
       "          [0.0118, 0.0000, 0.0000, 0.0000, 0.0000, 0.0000, 0.0000, 0.0824,\n",
       "           0.2078, 0.3608, 0.4588, 0.4353, 0.4039, 0.4510, 0.5059, 0.5255,\n",
       "           0.5608, 0.6039, 0.6471, 0.6667, 0.6039, 0.5922, 0.6039, 0.5608,\n",
       "           0.5412, 0.5882, 0.6471, 0.1686],\n",
       "          [0.0000, 0.0000, 0.0902, 0.2118, 0.2549, 0.2980, 0.3333, 0.4627,\n",
       "           0.5020, 0.4824, 0.4353, 0.4431, 0.4627, 0.4980, 0.4902, 0.5451,\n",
       "           0.5216, 0.5333, 0.6275, 0.5490, 0.6078, 0.6314, 0.5647, 0.6078,\n",
       "           0.6745, 0.6314, 0.7412, 0.2431],\n",
       "          [0.0000, 0.2667, 0.3686, 0.3529, 0.4353, 0.4471, 0.4353, 0.4471,\n",
       "           0.4510, 0.4980, 0.5294, 0.5333, 0.5608, 0.4941, 0.4980, 0.5922,\n",
       "           0.6039, 0.5608, 0.5804, 0.4902, 0.6353, 0.6353, 0.5647, 0.5412,\n",
       "           0.6000, 0.6353, 0.7686, 0.2275],\n",
       "          [0.2745, 0.6627, 0.5059, 0.4078, 0.3843, 0.3922, 0.3686, 0.3804,\n",
       "           0.3843, 0.4000, 0.4235, 0.4157, 0.4667, 0.4706, 0.5059, 0.5843,\n",
       "           0.6118, 0.6549, 0.7451, 0.7451, 0.7686, 0.7765, 0.7765, 0.7333,\n",
       "           0.7725, 0.7412, 0.7216, 0.1412],\n",
       "          [0.0627, 0.4941, 0.6706, 0.7373, 0.7373, 0.7216, 0.6706, 0.6000,\n",
       "           0.5294, 0.4706, 0.4941, 0.4980, 0.5725, 0.7255, 0.7647, 0.8196,\n",
       "           0.8157, 1.0000, 0.8196, 0.6941, 0.9608, 0.9882, 0.9843, 0.9843,\n",
       "           0.9686, 0.8627, 0.8078, 0.1922],\n",
       "          [0.0000, 0.0000, 0.0000, 0.0471, 0.2627, 0.4157, 0.6431, 0.7255,\n",
       "           0.7804, 0.8235, 0.8275, 0.8235, 0.8157, 0.7451, 0.5882, 0.3216,\n",
       "           0.0314, 0.0000, 0.0000, 0.0000, 0.6980, 0.8157, 0.7373, 0.6863,\n",
       "           0.6353, 0.6196, 0.5922, 0.0431],\n",
       "          [0.0000, 0.0000, 0.0000, 0.0000, 0.0000, 0.0000, 0.0000, 0.0000,\n",
       "           0.0000, 0.0000, 0.0000, 0.0000, 0.0000, 0.0000, 0.0000, 0.0000,\n",
       "           0.0000, 0.0000, 0.0000, 0.0000, 0.0000, 0.0000, 0.0000, 0.0000,\n",
       "           0.0000, 0.0000, 0.0000, 0.0000],\n",
       "          [0.0000, 0.0000, 0.0000, 0.0000, 0.0000, 0.0000, 0.0000, 0.0000,\n",
       "           0.0000, 0.0000, 0.0000, 0.0000, 0.0000, 0.0000, 0.0000, 0.0000,\n",
       "           0.0000, 0.0000, 0.0000, 0.0000, 0.0000, 0.0000, 0.0000, 0.0000,\n",
       "           0.0000, 0.0000, 0.0000, 0.0000],\n",
       "          [0.0000, 0.0000, 0.0000, 0.0000, 0.0000, 0.0000, 0.0000, 0.0000,\n",
       "           0.0000, 0.0000, 0.0000, 0.0000, 0.0000, 0.0000, 0.0000, 0.0000,\n",
       "           0.0000, 0.0000, 0.0000, 0.0000, 0.0000, 0.0000, 0.0000, 0.0000,\n",
       "           0.0000, 0.0000, 0.0000, 0.0000],\n",
       "          [0.0000, 0.0000, 0.0000, 0.0000, 0.0000, 0.0000, 0.0000, 0.0000,\n",
       "           0.0000, 0.0000, 0.0000, 0.0000, 0.0000, 0.0000, 0.0000, 0.0000,\n",
       "           0.0000, 0.0000, 0.0000, 0.0000, 0.0000, 0.0000, 0.0000, 0.0000,\n",
       "           0.0000, 0.0000, 0.0000, 0.0000],\n",
       "          [0.0000, 0.0000, 0.0000, 0.0000, 0.0000, 0.0000, 0.0000, 0.0000,\n",
       "           0.0000, 0.0000, 0.0000, 0.0000, 0.0000, 0.0000, 0.0000, 0.0000,\n",
       "           0.0000, 0.0000, 0.0000, 0.0000, 0.0000, 0.0000, 0.0000, 0.0000,\n",
       "           0.0000, 0.0000, 0.0000, 0.0000],\n",
       "          [0.0000, 0.0000, 0.0000, 0.0000, 0.0000, 0.0000, 0.0000, 0.0000,\n",
       "           0.0000, 0.0000, 0.0000, 0.0000, 0.0000, 0.0000, 0.0000, 0.0000,\n",
       "           0.0000, 0.0000, 0.0000, 0.0000, 0.0000, 0.0000, 0.0000, 0.0000,\n",
       "           0.0000, 0.0000, 0.0000, 0.0000]]]),\n",
       " 9)"
      ]
     },
     "execution_count": 6,
     "metadata": {},
     "output_type": "execute_result"
    }
   ],
   "source": [
    "# See first training sample\n",
    "image, label = train_data[0]\n",
    "image, label"
   ]
  },
  {
   "cell_type": "code",
   "execution_count": 7,
   "metadata": {},
   "outputs": [
    {
     "data": {
      "text/plain": [
       "torch.Size([1, 28, 28])"
      ]
     },
     "execution_count": 7,
     "metadata": {},
     "output_type": "execute_result"
    }
   ],
   "source": [
    "image.shape "
   ]
  },
  {
   "cell_type": "code",
   "execution_count": 8,
   "metadata": {},
   "outputs": [
    {
     "data": {
      "text/plain": [
       "['T-shirt/top',\n",
       " 'Trouser',\n",
       " 'Pullover',\n",
       " 'Dress',\n",
       " 'Coat',\n",
       " 'Sandal',\n",
       " 'Shirt',\n",
       " 'Sneaker',\n",
       " 'Bag',\n",
       " 'Ankle boot']"
      ]
     },
     "execution_count": 8,
     "metadata": {},
     "output_type": "execute_result"
    }
   ],
   "source": [
    "class_names = train_data.classes\n",
    "class_names"
   ]
  },
  {
   "cell_type": "markdown",
   "metadata": {},
   "source": [
    "c * H * W\n",
    "1. NOW PERMUTE THEM WITH .permute(1,2,0)\n",
    "2. image.squeeze()"
   ]
  },
  {
   "cell_type": "code",
   "execution_count": 9,
   "metadata": {},
   "outputs": [
    {
     "data": {
      "image/png": "[encoded data removed]",
      "text/plain": [
       "<Figure size 640x480 with 1 Axes>"
      ]
     },
     "metadata": {},
     "output_type": "display_data"
    }
   ],
   "source": [
    "plt.imshow(image.permute(1, 2, 0).numpy());"
   ]
  },
  {
   "cell_type": "code",
   "execution_count": 10,
   "metadata": {},
   "outputs": [
    {
     "data": {
      "text/plain": [
       "Text(0.5, 1.0, 'Ankle boot')"
      ]
     },
     "execution_count": 10,
     "metadata": {},
     "output_type": "execute_result"
    },
    {
     "data": {
      "image/png": "[encoded data removed]",
      "text/plain": [
       "<Figure size 640x480 with 1 Axes>"
      ]
     },
     "metadata": {},
     "output_type": "display_data"
    }
   ],
   "source": [
    "plt.imshow(image.permute(1, 2, 0).numpy() ,cmap = \"gray\");\n",
    "plt.title(class_names[label])"
   ]
  },
  {
   "cell_type": "code",
   "execution_count": 11,
   "metadata": {},
   "outputs": [
    {
     "data": {
      "text/plain": [
       "{'T-shirt/top': 0,\n",
       " 'Trouser': 1,\n",
       " 'Pullover': 2,\n",
       " 'Dress': 3,\n",
       " 'Coat': 4,\n",
       " 'Sandal': 5,\n",
       " 'Shirt': 6,\n",
       " 'Sneaker': 7,\n",
       " 'Bag': 8,\n",
       " 'Ankle boot': 9}"
      ]
     },
     "execution_count": 11,
     "metadata": {},
     "output_type": "execute_result"
    }
   ],
   "source": [
    "class_to_idx = train_data.class_to_idx\n",
    "class_to_idx"
   ]
  },
  {
   "cell_type": "code",
   "execution_count": 12,
   "metadata": {},
   "outputs": [
    {
     "data": {
      "text/plain": [
       "tensor([0, 1, 2, 3, 4, 5, 6, 7, 8, 9])"
      ]
     },
     "execution_count": 12,
     "metadata": {},
     "output_type": "execute_result"
    }
   ],
   "source": [
    "train_data.targets.unique() #labels"
   ]
  },
  {
   "cell_type": "code",
   "execution_count": 13,
   "metadata": {},
   "outputs": [
    {
     "data": {
      "image/png": "[encoded data removed]",
      "text/plain": [
       "<Figure size 1300x1400 with 16 Axes>"
      ]
     },
     "metadata": {},
     "output_type": "display_data"
    }
   ],
   "source": [
    "torch.manual_seed(42)\n",
    "rows , cols = 4 , 4\n",
    "fig = plt.figure(figsize=(13,14))\n",
    "for i in range(1 , rows*cols +1):\n",
    "    random_idx = torch.randint(0 , len(train_data) , size = [1]).item()\n",
    "    img , label = train_data[random_idx]\n",
    "    \n",
    "    fig.add_subplot(rows , cols , i)\n",
    "    plt.imshow(img.squeeze() , cmap = \"gray\")\n",
    "    plt.title(class_names[label])\n"
   ]
  },
  {
   "cell_type": "markdown",
   "metadata": {},
   "source": [
    "dataloader turns dataset into python iterable \n",
    "\n",
    "batchsize: good for memory (maybe 32) , gives NN more chances to update per epoch "
   ]
  },
  {
   "cell_type": "code",
   "execution_count": 14,
   "metadata": {},
   "outputs": [],
   "source": [
    "BATCH_SIZE = 32 #batches \n",
    "train_dataloader = DataLoader(dataset = train_data , batch_size = BATCH_SIZE , shuffle = True) # int(len(train_dataloader/batch_size))\n",
    "test_dataloader  = DataLoader(dataset = test_data  , batch_size= BATCH_SIZE , shuffle = False) "
   ]
  },
  {
   "cell_type": "code",
   "execution_count": 15,
   "metadata": {},
   "outputs": [
    {
     "data": {
      "text/plain": [
       "(torch.Size([32, 1, 28, 28]), torch.Size([32]))"
      ]
     },
     "execution_count": 15,
     "metadata": {},
     "output_type": "execute_result"
    }
   ],
   "source": [
    "train_feature_batch , train_label_batch=next(iter(train_dataloader))\n",
    "train_feature_batch.shape , train_label_batch.shape"
   ]
  },
  {
   "cell_type": "code",
   "execution_count": 16,
   "metadata": {},
   "outputs": [
    {
     "data": {
      "text/plain": [
       "Text(0.5, 1.0, 'Pullover')"
      ]
     },
     "execution_count": 16,
     "metadata": {},
     "output_type": "execute_result"
    },
    {
     "data": {
      "image/png": "[encoded data removed]",
      "text/plain": [
       "<Figure size 640x480 with 1 Axes>"
      ]
     },
     "metadata": {},
     "output_type": "display_data"
    }
   ],
   "source": [
    "#torch.manual_seed(42)\n",
    "random_idx = torch.randint(0 , len(train_feature_batch) , size = [1]).item()\n",
    "img,label = train_feature_batch[random_idx] , train_label_batch[random_idx]\n",
    "plt.imshow(img.squeeze() , cmap = \"gray\")\n",
    "plt.title(class_names[label])"
   ]
  },
  {
   "cell_type": "markdown",
   "metadata": {},
   "source": [
    "base model:"
   ]
  },
  {
   "cell_type": "markdown",
   "metadata": {},
   "source": [
    "flatten_layer"
   ]
  },
  {
   "cell_type": "code",
   "execution_count": 17,
   "metadata": {},
   "outputs": [
    {
     "name": "stdout",
     "output_type": "stream",
     "text": [
      "x before flatten torch.Size([1, 28, 28])\n",
      "x after flatten torch.Size([1, 784])\n"
     ]
    }
   ],
   "source": [
    "x = train_feature_batch[0]\n",
    "print(\"x before flatten\" ,x.shape)\n",
    "flatten_model = nn.Flatten()\n",
    "print(\"x after flatten\" ,flatten_model(x).shape) #color channels * (height*width)"
   ]
  },
  {
   "cell_type": "code",
   "execution_count": 43,
   "metadata": {},
   "outputs": [],
   "source": [
    "class ImageModelV0(nn.Module):\n",
    "    def __init__(self, input_shape: int, hidden_units: int, output_shape: int):\n",
    "        super().__init__()\n",
    "        self.layer_stack = nn.Sequential(\n",
    "            nn.Flatten(), # flatten inputs into single vector\n",
    "            nn.Linear(in_features=input_shape, out_features=hidden_units),\n",
    "      \n",
    "            nn.Linear(in_features=hidden_units, out_features=output_shape),\n",
    "       \n",
    "        )\n",
    "    \n",
    "    def forward(self, x: torch.Tensor):\n",
    "        return self.layer_stack(x)"
   ]
  },
  {
   "cell_type": "code",
   "execution_count": 44,
   "metadata": {},
   "outputs": [],
   "source": [
    "class ImageModelV1(nn.Module):\n",
    "    def __init__(self, input_shape: int, hidden_units: int, output_shape: int):\n",
    "        super().__init__()\n",
    "        self.layer_stack = nn.Sequential(\n",
    "            nn.Flatten(), # flatten inputs into single vector\n",
    "            nn.Linear(in_features=input_shape, out_features=hidden_units),\n",
    "            nn.ReLU(),\n",
    "            nn.Linear(in_features=hidden_units, out_features=output_shape),\n",
    "            nn.ReLU()\n",
    "        )\n",
    "    \n",
    "    def forward(self, x: torch.Tensor):\n",
    "        return self.layer_stack(x)"
   ]
  },
  {
   "cell_type": "code",
   "execution_count": 51,
   "metadata": {},
   "outputs": [],
   "source": [
    "class ImageModelV2(nn.Module):\n",
    "    def __init__(self, input_shape: int, hidden_units: int, output_shape: int):\n",
    "        super().__init__()\n",
    "        self.layer_stack = nn.Sequential(\n",
    "            nn.Flatten(), # flatten inputs into single vector\n",
    "            nn.Linear(in_features=input_shape, out_features=hidden_units),\n",
    "            nn.Tanh(),\n",
    "            nn.Linear(in_features=hidden_units, out_features=output_shape),\n",
    "            nn.Tanh()\n",
    "        )\n",
    "    \n",
    "    def forward(self, x: torch.Tensor):\n",
    "        return self.layer_stack(x)"
   ]
  },
  {
   "cell_type": "code",
   "execution_count": 52,
   "metadata": {},
   "outputs": [
    {
     "data": {
      "text/plain": [
       "ImageModelV2(\n",
       "  (layer_stack): Sequential(\n",
       "    (0): Flatten(start_dim=1, end_dim=-1)\n",
       "    (1): Linear(in_features=784, out_features=10, bias=True)\n",
       "    (2): Tanh()\n",
       "    (3): Linear(in_features=10, out_features=10, bias=True)\n",
       "    (4): Tanh()\n",
       "  )\n",
       ")"
      ]
     },
     "execution_count": 52,
     "metadata": {},
     "output_type": "execute_result"
    }
   ],
   "source": [
    "torch.manual_seed(42)\n",
    "model_0 = ImageModelV2(784 , 10 , len(class_names))\n",
    "model_0"
   ]
  },
  {
   "cell_type": "code",
   "execution_count": 53,
   "metadata": {},
   "outputs": [
    {
     "data": {
      "text/plain": [
       "torch.Size([1, 10])"
      ]
     },
     "execution_count": 53,
     "metadata": {},
     "output_type": "execute_result"
    }
   ],
   "source": [
    "dummy_x = torch.rand([1 , 1 , 28 , 28])\n",
    "model_0(dummy_x).shape"
   ]
  },
  {
   "cell_type": "code",
   "execution_count": 54,
   "metadata": {},
   "outputs": [],
   "source": [
    "loss_fn = nn.CrossEntropyLoss()\n",
    "optimizer = torch.optim.SGD(params = model_0.parameters() , lr = 0.1)"
   ]
  },
  {
   "cell_type": "code",
   "execution_count": 55,
   "metadata": {},
   "outputs": [],
   "source": [
    "def print_train_time(start , end):\n",
    "    total_time = end-start\n",
    "    return total_time"
   ]
  },
  {
   "cell_type": "code",
   "execution_count": 56,
   "metadata": {},
   "outputs": [],
   "source": [
    "acc = Accuracy(task='multiclass',num_classes=10)"
   ]
  },
  {
   "cell_type": "code",
   "execution_count": 57,
   "metadata": {},
   "outputs": [
    {
     "data": {
      "application/vnd.jupyter.widget-view+json": {
       "model_id": "f758fc702e894310ac95856ee64a32d8",
       "version_major": 2,
       "version_minor": 0
      },
      "text/plain": [
       "  0%|          | 0/20 [00:00<?, ?it/s]"
      ]
     },
     "metadata": {},
     "output_type": "display_data"
    },
    {
     "name": "stdout",
     "output_type": "stream",
     "text": [
      "Epoch : 0\n",
      "-----\n",
      "looked at 0/10000 samples\n",
      "epoch : 0 | train_loss : 1.53  | test loss : 1.31 , test acc : 0.71\n",
      "Epoch : 1\n",
      "-----\n",
      "looked at 0/10000 samples\n",
      "epoch : 1 | train_loss : 1.25  | test loss : 1.20 , test acc : 0.73\n",
      "Epoch : 2\n",
      "-----\n",
      "looked at 0/10000 samples\n",
      "epoch : 2 | train_loss : 1.18  | test loss : 1.16 , test acc : 0.75\n",
      "Epoch : 3\n",
      "-----\n",
      "looked at 0/10000 samples\n",
      "epoch : 3 | train_loss : 1.15  | test loss : 1.14 , test acc : 0.76\n",
      "Epoch : 4\n",
      "-----\n",
      "looked at 0/10000 samples\n",
      "epoch : 4 | train_loss : 1.13  | test loss : 1.11 , test acc : 0.77\n",
      "Epoch : 5\n",
      "-----\n",
      "looked at 0/10000 samples\n",
      "epoch : 5 | train_loss : 1.11  | test loss : 1.11 , test acc : 0.77\n",
      "Epoch : 6\n",
      "-----\n",
      "looked at 0/10000 samples\n",
      "epoch : 6 | train_loss : 1.10  | test loss : 1.09 , test acc : 0.78\n",
      "Epoch : 7\n",
      "-----\n",
      "looked at 0/10000 samples\n",
      "epoch : 7 | train_loss : 1.09  | test loss : 1.09 , test acc : 0.79\n",
      "Epoch : 8\n",
      "-----\n",
      "looked at 0/10000 samples\n",
      "epoch : 8 | train_loss : 1.08  | test loss : 1.09 , test acc : 0.80\n",
      "Epoch : 9\n",
      "-----\n",
      "looked at 0/10000 samples\n",
      "epoch : 9 | train_loss : 1.08  | test loss : 1.07 , test acc : 0.78\n",
      "Epoch : 10\n",
      "-----\n",
      "looked at 0/10000 samples\n",
      "epoch : 10 | train_loss : 1.07  | test loss : 1.06 , test acc : 0.80\n",
      "Epoch : 11\n",
      "-----\n",
      "looked at 0/10000 samples\n",
      "epoch : 11 | train_loss : 1.07  | test loss : 1.05 , test acc : 0.82\n",
      "Epoch : 12\n",
      "-----\n",
      "looked at 0/10000 samples\n",
      "epoch : 12 | train_loss : 1.06  | test loss : 1.10 , test acc : 0.80\n",
      "Epoch : 13\n",
      "-----\n",
      "looked at 0/10000 samples\n",
      "epoch : 13 | train_loss : 1.06  | test loss : 1.05 , test acc : 0.82\n",
      "Epoch : 14\n",
      "-----\n",
      "looked at 0/10000 samples\n",
      "epoch : 14 | train_loss : 1.05  | test loss : 1.08 , test acc : 0.81\n",
      "Epoch : 15\n",
      "-----\n",
      "looked at 0/10000 samples\n",
      "epoch : 15 | train_loss : 1.05  | test loss : 1.05 , test acc : 0.83\n",
      "Epoch : 16\n",
      "-----\n",
      "looked at 0/10000 samples\n",
      "epoch : 16 | train_loss : 1.04  | test loss : 1.05 , test acc : 0.82\n",
      "Epoch : 17\n",
      "-----\n",
      "looked at 0/10000 samples\n",
      "epoch : 17 | train_loss : 1.04  | test loss : 1.06 , test acc : 0.80\n",
      "Epoch : 18\n",
      "-----\n",
      "looked at 0/10000 samples\n",
      "epoch : 18 | train_loss : 1.04  | test loss : 1.03 , test acc : 0.84\n",
      "Epoch : 19\n",
      "-----\n",
      "looked at 0/10000 samples\n",
      "epoch : 19 | train_loss : 1.03  | test loss : 1.04 , test acc : 0.83\n"
     ]
    },
    {
     "data": {
      "text/plain": [
       "40.09656299999915"
      ]
     },
     "execution_count": 57,
     "metadata": {},
     "output_type": "execute_result"
    }
   ],
   "source": [
    "torch.manual_seed(42)\n",
    "start_time = timer()\n",
    "#--------------------\n",
    "epochs = 20\n",
    "for epoch in tqdm(range(epochs)):\n",
    "    print(f\"Epoch : {epoch}\\n-----\")    \n",
    "    train_loss = 0\n",
    "    for batch , (image , label) in enumerate(train_dataloader):\n",
    "        model_0.train()\n",
    "        y_pred = model_0(image)\n",
    "        loss = loss_fn(y_pred , label)\n",
    "        train_loss = train_loss + loss #loss on one batch of data\n",
    "        optimizer.zero_grad()\n",
    "        loss.backward()\n",
    "        optimizer.step()\n",
    "\n",
    "        if batch %400 == 0:\n",
    "            print(f\"looked at {batch*len(image)}/{len(train_dataloader.dataset)} samples\")\n",
    "    train_loss = train_loss / len(train_dataloader) #loss by the whole train data\n",
    "\n",
    "    #testing\n",
    "    test_loss , test_acc = 0 , 0\n",
    "    model_0.eval()\n",
    "    with torch.inference_mode():\n",
    "        for image_test , label_test in test_dataloader:\n",
    "            test_pred = model_0(image_test)\n",
    "            test_loss = test_loss + loss_fn(test_pred , label_test)\n",
    "            test_acc  = test_acc  + acc(test_pred.argmax(dim = 1) , label_test)\n",
    "        test_loss = test_loss / len(test_dataloader) #test loss avg per batch\n",
    "        test_acc  = test_acc  / len(test_dataloader)\n",
    "    print(f\"epoch : {epoch} | train_loss : {train_loss:.2f}  | test loss : {test_loss:.2f} , test acc : {test_acc:.2f}\")\n",
    "#--------------------\n",
    "end_time = timer()\n",
    "total_train_time_model_0 = print_train_time(start_time , end_time)\n",
    "total_train_time_model_0"
   ]
  },
  {
   "cell_type": "code",
   "execution_count": 42,
   "metadata": {},
   "outputs": [
    {
     "data": {
      "application/vnd.jupyter.widget-view+json": {
       "model_id": "7fdbf6e13dd34f8e8e97b5af29d08dc9",
       "version_major": 2,
       "version_minor": 0
      },
      "text/plain": [
       "  0%|          | 0/20 [00:00<?, ?it/s]"
      ]
     },
     "metadata": {},
     "output_type": "display_data"
    },
    {
     "name": "stdout",
     "output_type": "stream",
     "text": [
      "Epoch : 0\n",
      "-----\n",
      "looked at 0/10000 samples\n",
      "epoch : 0 | train_loss : 0.39  | test loss : 0.38 , test acc : 0.86\n",
      "Epoch : 1\n",
      "-----\n",
      "looked at 0/10000 samples\n",
      "epoch : 1 | train_loss : 0.37  | test loss : 0.36 , test acc : 0.87\n",
      "Epoch : 2\n",
      "-----\n",
      "looked at 0/10000 samples\n",
      "epoch : 2 | train_loss : 0.37  | test loss : 0.39 , test acc : 0.86\n",
      "Epoch : 3\n",
      "-----\n",
      "looked at 0/10000 samples\n",
      "epoch : 3 | train_loss : 0.37  | test loss : 0.35 , test acc : 0.87\n",
      "Epoch : 4\n",
      "-----\n",
      "looked at 0/10000 samples\n",
      "epoch : 4 | train_loss : 0.37  | test loss : 0.33 , test acc : 0.88\n",
      "Epoch : 5\n",
      "-----\n",
      "looked at 0/10000 samples\n",
      "epoch : 5 | train_loss : 0.36  | test loss : 0.38 , test acc : 0.86\n",
      "Epoch : 6\n",
      "-----\n",
      "looked at 0/10000 samples\n",
      "epoch : 6 | train_loss : 0.36  | test loss : 0.34 , test acc : 0.88\n",
      "Epoch : 7\n",
      "-----\n",
      "looked at 0/10000 samples\n",
      "epoch : 7 | train_loss : 0.36  | test loss : 0.36 , test acc : 0.87\n",
      "Epoch : 8\n",
      "-----\n",
      "looked at 0/10000 samples\n",
      "epoch : 8 | train_loss : 0.35  | test loss : 0.47 , test acc : 0.84\n",
      "Epoch : 9\n",
      "-----\n",
      "looked at 0/10000 samples\n",
      "epoch : 9 | train_loss : 0.35  | test loss : 0.32 , test acc : 0.89\n",
      "Epoch : 10\n",
      "-----\n",
      "looked at 0/10000 samples\n",
      "epoch : 10 | train_loss : 0.35  | test loss : 0.37 , test acc : 0.86\n",
      "Epoch : 11\n",
      "-----\n",
      "looked at 0/10000 samples\n",
      "epoch : 11 | train_loss : 0.34  | test loss : 0.39 , test acc : 0.86\n",
      "Epoch : 12\n",
      "-----\n",
      "looked at 0/10000 samples\n",
      "epoch : 12 | train_loss : 0.34  | test loss : 0.33 , test acc : 0.88\n",
      "Epoch : 13\n",
      "-----\n",
      "looked at 0/10000 samples\n",
      "epoch : 13 | train_loss : 0.34  | test loss : 0.33 , test acc : 0.88\n",
      "Epoch : 14\n",
      "-----\n",
      "looked at 0/10000 samples\n",
      "epoch : 14 | train_loss : 0.34  | test loss : 0.37 , test acc : 0.87\n",
      "Epoch : 15\n",
      "-----\n",
      "looked at 0/10000 samples\n",
      "epoch : 15 | train_loss : 0.34  | test loss : 0.32 , test acc : 0.89\n",
      "Epoch : 16\n",
      "-----\n",
      "looked at 0/10000 samples\n",
      "epoch : 16 | train_loss : 0.34  | test loss : 0.39 , test acc : 0.86\n",
      "Epoch : 17\n",
      "-----\n",
      "looked at 0/10000 samples\n",
      "epoch : 17 | train_loss : 0.33  | test loss : 0.40 , test acc : 0.86\n",
      "Epoch : 18\n",
      "-----\n",
      "looked at 0/10000 samples\n",
      "epoch : 18 | train_loss : 0.33  | test loss : 0.34 , test acc : 0.88\n",
      "Epoch : 19\n",
      "-----\n",
      "looked at 0/10000 samples\n",
      "epoch : 19 | train_loss : 0.33  | test loss : 0.31 , test acc : 0.89\n"
     ]
    },
    {
     "data": {
      "text/plain": [
       "39.54927110002609"
      ]
     },
     "execution_count": 42,
     "metadata": {},
     "output_type": "execute_result"
    }
   ],
   "source": [
    "torch.manual_seed(42)\n",
    "start_time = timer()\n",
    "#--------------------\n",
    "epochs = 20\n",
    "for epoch in tqdm(range(epochs)):\n",
    "    print(f\"Epoch : {epoch}\\n-----\")    \n",
    "    train_loss = 0\n",
    "    for batch , (image , label) in enumerate(train_dataloader):\n",
    "        model_0.train()\n",
    "        y_pred = model_0(image)\n",
    "        loss = loss_fn(y_pred , label)\n",
    "        train_loss = train_loss + loss #loss on one batch of data\n",
    "        optimizer.zero_grad()\n",
    "        loss.backward()\n",
    "        optimizer.step()\n",
    "\n",
    "        if batch %400 == 0:\n",
    "            print(f\"looked at {batch*len(image)}/{len(train_dataloader.dataset)} samples\")\n",
    "    train_loss = train_loss / len(train_dataloader) #loss by the whole train data\n",
    "\n",
    "    #testing\n",
    "    test_loss , test_acc = 0 , 0\n",
    "    model_0.eval()\n",
    "    with torch.inference_mode():\n",
    "        for image_test , label_test in test_dataloader:\n",
    "            test_pred = model_0(image_test)\n",
    "            test_loss = test_loss + loss_fn(test_pred , label_test)\n",
    "            test_acc  = test_acc  + acc(test_pred.argmax(dim = 1) , label_test)\n",
    "        test_loss = test_loss / len(test_dataloader) #test loss avg per batch\n",
    "        test_acc  = test_acc  / len(test_dataloader)\n",
    "    print(f\"epoch : {epoch} | train_loss : {train_loss:.2f}  | test loss : {test_loss:.2f} , test acc : {test_acc:.2f}\")\n",
    "#--------------------\n",
    "end_time = timer()\n",
    "total_train_time_model_0 = print_train_time(start_time , end_time)\n",
    "total_train_time_model_0"
   ]
  },
  {
   "cell_type": "code",
   "execution_count": 25,
   "metadata": {},
   "outputs": [
    {
     "data": {
      "application/vnd.jupyter.widget-view+json": {
       "model_id": "9577aa7eeb524862b6576a7247f22fc5",
       "version_major": 2,
       "version_minor": 0
      },
      "text/plain": [
       "  0%|          | 0/313 [00:00<?, ?it/s]"
      ]
     },
     "metadata": {},
     "output_type": "display_data"
    },
    {
     "data": {
      "text/plain": [
       "{'model_name': 'ImageModel',\n",
       " 'model_loss': 0.5185422897338867,\n",
       " 'model acc': tensor(0.8132)}"
      ]
     },
     "execution_count": 25,
     "metadata": {},
     "output_type": "execute_result"
    }
   ],
   "source": [
    "def eval_model(model , data_loader , loss_fn , accuracy_fn):\n",
    "    test_loss , test_acc = 0 , 0\n",
    "    model_0.eval()\n",
    "    with torch.inference_mode():\n",
    "        for image_test , label_test in tqdm(data_loader):\n",
    "            test_pred = model_0(image_test)\n",
    "            test_loss = test_loss + loss_fn(test_pred , label_test)\n",
    "            test_acc  = test_acc  + acc(test_pred.argmax(dim = 1) , label_test)\n",
    "        test_loss = test_loss / len(data_loader) #test loss avg per batch\n",
    "        test_acc  = test_acc  / len(data_loader)\n",
    "    return {\"model_name\" : model.__class__.__name__,\n",
    "            \"model_loss\" : test_loss.item(),\n",
    "            \"model acc\"  : test_acc\n",
    "            }\n",
    "model_0_results = eval_model(model_0 , test_dataloader ,loss_fn = loss_fn , accuracy_fn=acc)\n",
    "model_0_results"
   ]
  },
  {
   "cell_type": "markdown",
   "metadata": {},
   "source": [
    "non-linearity introduction"
   ]
  },
  {
   "cell_type": "code",
   "execution_count": 26,
   "metadata": {},
   "outputs": [],
   "source": [
    "class ImageModelV2(nn.Module):\n",
    "    def __init__(self, input_shape: int, hidden_units: int, output_shape: int):\n",
    "        super().__init__()\n",
    "        self.layer_stack = nn.Sequential(\n",
    "            nn.Flatten(), # flatten inputs into single vector\n",
    "            nn.Linear(in_features=input_shape, out_features=hidden_units),\n",
    "            nn.ReLU(),\n",
    "            nn.Linear(in_features=hidden_units, out_features=output_shape),\n",
    "            nn.ReLU()\n",
    "        )\n",
    "    \n",
    "    def forward(self, x: torch.Tensor):\n",
    "        return self.layer_stack(x)"
   ]
  },
  {
   "cell_type": "code",
   "execution_count": 27,
   "metadata": {},
   "outputs": [],
   "source": [
    "torch.manual_seed(42)\n",
    "model_1 = ImageModelV2(784 , 10 , len(class_names))"
   ]
  },
  {
   "cell_type": "code",
   "execution_count": 28,
   "metadata": {},
   "outputs": [],
   "source": [
    "loss_fn = nn.CrossEntropyLoss()\n",
    "optimizer = torch.optim.SGD(params = model_0.parameters() , lr = 0.1)"
   ]
  },
  {
   "cell_type": "code",
   "execution_count": 29,
   "metadata": {},
   "outputs": [],
   "source": [
    "def acc(y_true , y_pred):\n",
    "    correct = torch.eq(y_true , y_pred).sum().item()\n",
    "    acc =( correct / (len(y_pred)) )* 100\n",
    "    return acc"
   ]
  },
  {
   "cell_type": "code",
   "execution_count": 32,
   "metadata": {},
   "outputs": [],
   "source": [
    "def train_step(model: torch.nn.Module,\n",
    "               data_loader: torch.utils.data.DataLoader,\n",
    "               loss_fn: torch.nn.Module,\n",
    "               optimizer: torch.optim.Optimizer,\n",
    "               accuracy_fn\n",
    "               ):\n",
    "    train_loss, train_acc = 0, 0\n",
    "   \n",
    "    for batch, (X, y) in enumerate(data_loader):\n",
    "        # Send data to GPU\n",
    "      \n",
    "        model.train()\n",
    "        # 1. Forward pass\n",
    "        y_pred = model(X)\n",
    "\n",
    "        # 2. Calculate loss\n",
    "        loss = loss_fn(y_pred, y)\n",
    "        train_loss += loss\n",
    "        train_acc += accuracy_fn(y_true=y,\n",
    "                                 y_pred=y_pred.argmax(dim=1)) # Go from logits -> pred labels\n",
    "\n",
    "        # 3. Optimizer zero grad\n",
    "        optimizer.zero_grad()\n",
    "\n",
    "        # 4. Loss backward\n",
    "        loss.backward()\n",
    "\n",
    "        # 5. Optimizer step\n",
    "        optimizer.step()\n",
    "\n",
    "    # Calculate loss and accuracy per epoch and print out what's happening\n",
    "    train_loss /= len(data_loader)\n",
    "    train_acc /= len(data_loader)\n",
    "    print(f\"Train loss: {train_loss:.5f} | Train accuracy: {train_acc:.2f}%\")\n",
    "\n",
    "def test_step(data_loader: torch.utils.data.DataLoader,\n",
    "              model: torch.nn.Module,\n",
    "              loss_fn: torch.nn.Module,\n",
    "              accuracy_fn\n",
    "            ):\n",
    "    test_loss, test_acc = 0, 0\n",
    " \n",
    "    model.eval() # put model in eval mode\n",
    "    # Turn on inference context manager\n",
    "    with torch.inference_mode(): \n",
    "        for X, y in data_loader:\n",
    "            # Send data to GPU\n",
    "       \n",
    "            \n",
    "            # 1. Forward pass\n",
    "            test_pred = model(X)\n",
    "            \n",
    "            # 2. Calculate loss and accuracy\n",
    "            test_loss += loss_fn(test_pred, y)\n",
    "            test_acc += accuracy_fn(y_true=y,\n",
    "                y_pred=test_pred.argmax(dim=1) # Go from logits -> pred labels\n",
    "            )\n",
    "        \n",
    "        # Adjust metrics and print out\n",
    "        test_loss /= len(data_loader)\n",
    "        test_acc /= len(data_loader)\n",
    "        print(f\"Test loss: {test_loss:.5f} | Test accuracy: {test_acc:.2f}%\\n\")"
   ]
  },
  {
   "cell_type": "code",
   "execution_count": 33,
   "metadata": {},
   "outputs": [
    {
     "data": {
      "application/vnd.jupyter.widget-view+json": {
       "model_id": "833fe5f7433c44ee95abbbbf6b9fb652",
       "version_major": 2,
       "version_minor": 0
      },
      "text/plain": [
       "  0%|          | 0/3 [00:00<?, ?it/s]"
      ]
     },
     "metadata": {},
     "output_type": "display_data"
    },
    {
     "name": "stdout",
     "output_type": "stream",
     "text": [
      "Epoch: 0\n",
      "---------\n",
      "Train loss: 2.30207 | Train accuracy: 10.76%\n",
      "Test loss: 2.30211 | Test accuracy: 10.75%\n",
      "\n",
      "Epoch: 1\n",
      "---------\n",
      "Train loss: 2.30213 | Train accuracy: 10.75%\n",
      "Test loss: 2.30211 | Test accuracy: 10.75%\n",
      "\n",
      "Epoch: 2\n",
      "---------\n",
      "Train loss: 2.30209 | Train accuracy: 10.76%\n",
      "Test loss: 2.30211 | Test accuracy: 10.75%\n",
      "\n"
     ]
    }
   ],
   "source": [
    "torch.manual_seed(42)\n",
    "\n",
    "# Measure time\n",
    "from timeit import default_timer as timer\n",
    "train_time_start_on_gpu = timer()\n",
    "\n",
    "epochs = 3\n",
    "for epoch in tqdm(range(epochs)):\n",
    "    print(f\"Epoch: {epoch}\\n---------\")\n",
    "    train_step(data_loader=train_dataloader, \n",
    "        model=model_1, \n",
    "        loss_fn=loss_fn,\n",
    "        optimizer=optimizer,\n",
    "        accuracy_fn=acc\n",
    "    )\n",
    "    test_step(data_loader=test_dataloader,\n",
    "        model=model_1,\n",
    "        loss_fn=loss_fn,\n",
    "        accuracy_fn=acc\n",
    "    )\n",
    "\n",
    "train_time_end_on_gpu = timer()\n",
    "total_train_time_model_1 = print_train_time(start=train_time_start_on_gpu,\n",
    "                                            end=train_time_end_on_gpu,\n",
    "                                            )"
   ]
  },
  {
   "cell_type": "code",
   "execution_count": 110,
   "metadata": {},
   "outputs": [],
   "source": [
    "class CNN(nn.Module):\n",
    "    def __init__(self , input_shape , hidden_units , output_shape):\n",
    "        super().__init__()\n",
    "\n",
    "        self.conv1 = nn.Sequential(\n",
    "            nn.Conv2d(in_channels=  input_shape, \n",
    "                      out_channels= hidden_units,\n",
    "                      kernel_size=3,\n",
    "                      padding = 1,\n",
    "                      stride = 1),\n",
    "            nn.ReLU(),\n",
    "            nn.Conv2d(in_channels=  hidden_units, \n",
    "                      out_channels= hidden_units,\n",
    "                      kernel_size=3,\n",
    "                      padding = 1,\n",
    "                      stride = 1),\n",
    "            nn.ReLU(),\n",
    "            nn.MaxPool2d(kernel_size=2)\n",
    "            \n",
    "        )\n",
    "        self.conv2 = nn.Sequential(\n",
    "            nn.Conv2d(in_channels=  hidden_units, \n",
    "                      out_channels= hidden_units,\n",
    "                      kernel_size=3,\n",
    "                      padding = 1,\n",
    "                      stride = 1),\n",
    "            nn.ReLU(),\n",
    "            nn.Conv2d(in_channels=  hidden_units, \n",
    "                      out_channels= hidden_units,\n",
    "                      kernel_size=3,\n",
    "                      padding = 1,\n",
    "                      stride = 1),\n",
    "            nn.ReLU(),\n",
    "            nn.MaxPool2d(kernel_size=2)\n",
    "        )\n",
    "        self.classifier = nn.Sequential(\n",
    "            nn.Flatten(),\n",
    "            nn.Linear(in_features=hidden_units * 7 *7 ,\n",
    "                      out_features=output_shape )\n",
    "        )\n",
    "    def forward(self , x):\n",
    "        x = self.conv1(x)\n",
    "        #print(x.shape)\n",
    "        x = self.conv2(x)\n",
    "        #print(x.shape)\n",
    "        x = self.classifier(x)\n",
    "        #print(x.shape)\n",
    "        return x\n"
   ]
  },
  {
   "cell_type": "code",
   "execution_count": 111,
   "metadata": {},
   "outputs": [],
   "source": [
    "torch.manual_seed(42)\n",
    "model = CNN(input_shape = 1 , hidden_units = 10 , output_shape = len(class_names)) #input shape = num of color channels"
   ]
  },
  {
   "cell_type": "code",
   "execution_count": 96,
   "metadata": {},
   "outputs": [],
   "source": [
    "torch.manual_seed(42)\n",
    "img = torch.randn(size = (32 , 3 , 64 , 64))\n",
    "test_img = img[0]"
   ]
  },
  {
   "cell_type": "code",
   "execution_count": 97,
   "metadata": {},
   "outputs": [
    {
     "data": {
      "text/plain": [
       "torch.Size([3, 64, 64])"
      ]
     },
     "execution_count": 97,
     "metadata": {},
     "output_type": "execute_result"
    }
   ],
   "source": [
    "test_img.shape"
   ]
  },
  {
   "cell_type": "code",
   "execution_count": 98,
   "metadata": {},
   "outputs": [
    {
     "name": "stderr",
     "output_type": "stream",
     "text": [
      "Clipping input data to the valid range for imshow with RGB data ([0..1] for floats or [0..255] for integers).\n"
     ]
    },
    {
     "data": {
      "text/plain": [
       "<matplotlib.image.AxesImage at 0x1d0f0b86b90>"
      ]
     },
     "execution_count": 98,
     "metadata": {},
     "output_type": "execute_result"
    },
    {
     "data": {
      "image/png": "[encoded data removed]",
      "text/plain": [
       "<Figure size 640x480 with 1 Axes>"
      ]
     },
     "metadata": {},
     "output_type": "display_data"
    }
   ],
   "source": [
    "plt.imshow(img[0].permute(2 , 1 , 0))"
   ]
  },
  {
   "cell_type": "code",
   "execution_count": 99,
   "metadata": {},
   "outputs": [
    {
     "data": {
      "text/plain": [
       "torch.Size([64, 62, 62])"
      ]
     },
     "execution_count": 99,
     "metadata": {},
     "output_type": "execute_result"
    }
   ],
   "source": [
    "conv_layer= nn.Conv2d(in_channels= 3 , out_channels = 64,kernel_size=3,stride=1,padding=0 )\n",
    "conv_output = conv_layer(test_img)\n",
    "conv_output.shape"
   ]
  },
  {
   "cell_type": "code",
   "execution_count": 93,
   "metadata": {},
   "outputs": [
    {
     "data": {
      "text/plain": [
       "torch.Size([3, 32, 32])"
      ]
     },
     "execution_count": 93,
     "metadata": {},
     "output_type": "execute_result"
    }
   ],
   "source": [
    "pool = nn.MaxPool2d(kernel_size=2)\n",
    "max_pool = pool(test_img)\n",
    "max_pool.shape"
   ]
  },
  {
   "cell_type": "code",
   "execution_count": 103,
   "metadata": {},
   "outputs": [
    {
     "data": {
      "text/plain": [
       "<matplotlib.image.AxesImage at 0x1d0ec0b4e90>"
      ]
     },
     "execution_count": 103,
     "metadata": {},
     "output_type": "execute_result"
    },
    {
     "data": {
      "image/png": "[encoded data removed]",
      "text/plain": [
       "<Figure size 640x480 with 1 Axes>"
      ]
     },
     "metadata": {},
     "output_type": "display_data"
    }
   ],
   "source": [
    "plt.imshow(image[0].permute(1,2,0))"
   ]
  },
  {
   "cell_type": "code",
   "execution_count": 108,
   "metadata": {},
   "outputs": [
    {
     "data": {
      "text/plain": [
       "torch.Size([16, 1, 28, 28])"
      ]
     },
     "execution_count": 108,
     "metadata": {},
     "output_type": "execute_result"
    }
   ],
   "source": [
    "image.shape"
   ]
  },
  {
   "cell_type": "code",
   "execution_count": 107,
   "metadata": {},
   "outputs": [
    {
     "name": "stdout",
     "output_type": "stream",
     "text": [
      "torch.Size([16, 10, 14, 14])\n",
      "torch.Size([16, 10, 7, 7])\n",
      "torch.Size([16, 10])\n"
     ]
    },
    {
     "data": {
      "text/plain": [
       "tensor([[ 0.0291, -0.0632,  0.0564, -0.0308, -0.0128,  0.0135, -0.0028, -0.0098,\n",
       "          0.0217,  0.0134],\n",
       "        [ 0.0312, -0.0630,  0.0577, -0.0270, -0.0203,  0.0153, -0.0019, -0.0038,\n",
       "          0.0216,  0.0077],\n",
       "        [ 0.0271, -0.0667,  0.0528, -0.0346, -0.0132,  0.0142, -0.0024, -0.0116,\n",
       "          0.0234,  0.0086],\n",
       "        [ 0.0324, -0.0598,  0.0547, -0.0235, -0.0171,  0.0174, -0.0077, -0.0060,\n",
       "          0.0227,  0.0108],\n",
       "        [ 0.0328, -0.0624,  0.0506, -0.0297, -0.0122,  0.0200, -0.0031, -0.0156,\n",
       "          0.0286,  0.0112],\n",
       "        [ 0.0313, -0.0692,  0.0584, -0.0378, -0.0126,  0.0146, -0.0037, -0.0098,\n",
       "          0.0174,  0.0104],\n",
       "        [ 0.0281, -0.0669,  0.0523, -0.0331, -0.0112,  0.0181,  0.0012, -0.0154,\n",
       "          0.0245,  0.0099],\n",
       "        [ 0.0348, -0.0682,  0.0558, -0.0349, -0.0139,  0.0162,  0.0034, -0.0087,\n",
       "          0.0186,  0.0130],\n",
       "        [ 0.0363, -0.0658,  0.0497, -0.0326, -0.0072,  0.0136, -0.0061, -0.0146,\n",
       "          0.0224,  0.0063],\n",
       "        [ 0.0348, -0.0625,  0.0437, -0.0296, -0.0043,  0.0193, -0.0017, -0.0105,\n",
       "          0.0324,  0.0084],\n",
       "        [ 0.0373, -0.0650,  0.0576, -0.0358, -0.0077,  0.0184, -0.0011, -0.0133,\n",
       "          0.0282,  0.0094],\n",
       "        [ 0.0297, -0.0579,  0.0521, -0.0264, -0.0163,  0.0153, -0.0083, -0.0069,\n",
       "          0.0232,  0.0125],\n",
       "        [ 0.0254, -0.0574,  0.0468, -0.0272, -0.0130,  0.0092, -0.0053, -0.0098,\n",
       "          0.0207,  0.0139],\n",
       "        [ 0.0344, -0.0649,  0.0550, -0.0361, -0.0110,  0.0162, -0.0044, -0.0095,\n",
       "          0.0248,  0.0052],\n",
       "        [ 0.0271, -0.0614,  0.0522, -0.0344, -0.0160,  0.0128, -0.0044, -0.0088,\n",
       "          0.0240,  0.0121],\n",
       "        [ 0.0243, -0.0659,  0.0551, -0.0321, -0.0142,  0.0175,  0.0041, -0.0109,\n",
       "          0.0212,  0.0096]], grad_fn=<AddmmBackward0>)"
      ]
     },
     "execution_count": 107,
     "metadata": {},
     "output_type": "execute_result"
    }
   ],
   "source": [
    "model(image)"
   ]
  },
  {
   "cell_type": "code",
   "execution_count": 117,
   "metadata": {},
   "outputs": [
    {
     "name": "stderr",
     "output_type": "stream",
     "text": [
      "  0%|          | 0/20 [00:00<?, ?it/s]"
     ]
    },
    {
     "name": "stdout",
     "output_type": "stream",
     "text": [
      "Epoch : 0\n",
      "-----\n",
      "looked at 0/10000 samples\n"
     ]
    },
    {
     "name": "stderr",
     "output_type": "stream",
     "text": [
      "  5%|▌         | 1/20 [00:03<01:14,  3.92s/it]"
     ]
    },
    {
     "name": "stdout",
     "output_type": "stream",
     "text": [
      "epoch : 0 | train_loss : 0.34  | test loss : 0.30 , test acc : 0.89\n",
      "Epoch : 1\n",
      "-----\n",
      "looked at 0/10000 samples\n"
     ]
    },
    {
     "name": "stderr",
     "output_type": "stream",
     "text": [
      " 10%|█         | 2/20 [00:07<01:10,  3.94s/it]"
     ]
    },
    {
     "name": "stdout",
     "output_type": "stream",
     "text": [
      "epoch : 1 | train_loss : 0.33  | test loss : 0.32 , test acc : 0.89\n",
      "Epoch : 2\n",
      "-----\n",
      "looked at 0/10000 samples\n"
     ]
    },
    {
     "name": "stderr",
     "output_type": "stream",
     "text": [
      " 15%|█▌        | 3/20 [00:11<01:06,  3.92s/it]"
     ]
    },
    {
     "name": "stdout",
     "output_type": "stream",
     "text": [
      "epoch : 2 | train_loss : 0.32  | test loss : 0.28 , test acc : 0.90\n",
      "Epoch : 3\n",
      "-----\n",
      "looked at 0/10000 samples\n"
     ]
    },
    {
     "name": "stderr",
     "output_type": "stream",
     "text": [
      " 20%|██        | 4/20 [00:15<01:02,  3.88s/it]"
     ]
    },
    {
     "name": "stdout",
     "output_type": "stream",
     "text": [
      "epoch : 3 | train_loss : 0.32  | test loss : 0.29 , test acc : 0.89\n",
      "Epoch : 4\n",
      "-----\n",
      "looked at 0/10000 samples\n"
     ]
    },
    {
     "name": "stderr",
     "output_type": "stream",
     "text": [
      " 25%|██▌       | 5/20 [00:19<00:58,  3.92s/it]"
     ]
    },
    {
     "name": "stdout",
     "output_type": "stream",
     "text": [
      "epoch : 4 | train_loss : 0.30  | test loss : 0.26 , test acc : 0.91\n",
      "Epoch : 5\n",
      "-----\n",
      "looked at 0/10000 samples\n"
     ]
    },
    {
     "name": "stderr",
     "output_type": "stream",
     "text": [
      " 30%|███       | 6/20 [00:23<00:55,  3.93s/it]"
     ]
    },
    {
     "name": "stdout",
     "output_type": "stream",
     "text": [
      "epoch : 5 | train_loss : 0.29  | test loss : 0.31 , test acc : 0.88\n",
      "Epoch : 6\n",
      "-----\n",
      "looked at 0/10000 samples\n"
     ]
    },
    {
     "name": "stderr",
     "output_type": "stream",
     "text": [
      " 35%|███▌      | 7/20 [00:27<00:51,  3.94s/it]"
     ]
    },
    {
     "name": "stdout",
     "output_type": "stream",
     "text": [
      "epoch : 6 | train_loss : 0.29  | test loss : 0.26 , test acc : 0.91\n",
      "Epoch : 7\n",
      "-----\n",
      "looked at 0/10000 samples\n"
     ]
    },
    {
     "name": "stderr",
     "output_type": "stream",
     "text": [
      " 40%|████      | 8/20 [00:31<00:47,  3.93s/it]"
     ]
    },
    {
     "name": "stdout",
     "output_type": "stream",
     "text": [
      "epoch : 7 | train_loss : 0.28  | test loss : 0.24 , test acc : 0.91\n",
      "Epoch : 8\n",
      "-----\n",
      "looked at 0/10000 samples\n"
     ]
    },
    {
     "name": "stderr",
     "output_type": "stream",
     "text": [
      " 45%|████▌     | 9/20 [00:35<00:43,  3.96s/it]"
     ]
    },
    {
     "name": "stdout",
     "output_type": "stream",
     "text": [
      "epoch : 8 | train_loss : 0.27  | test loss : 0.33 , test acc : 0.88\n",
      "Epoch : 9\n",
      "-----\n",
      "looked at 0/10000 samples\n"
     ]
    },
    {
     "name": "stderr",
     "output_type": "stream",
     "text": [
      " 50%|█████     | 10/20 [00:39<00:41,  4.15s/it]"
     ]
    },
    {
     "name": "stdout",
     "output_type": "stream",
     "text": [
      "epoch : 9 | train_loss : 0.26  | test loss : 0.24 , test acc : 0.91\n",
      "Epoch : 10\n",
      "-----\n",
      "looked at 0/10000 samples\n"
     ]
    },
    {
     "name": "stderr",
     "output_type": "stream",
     "text": [
      " 55%|█████▌    | 11/20 [00:44<00:37,  4.22s/it]"
     ]
    },
    {
     "name": "stdout",
     "output_type": "stream",
     "text": [
      "epoch : 10 | train_loss : 0.26  | test loss : 0.28 , test acc : 0.89\n",
      "Epoch : 11\n",
      "-----\n",
      "looked at 0/10000 samples\n"
     ]
    },
    {
     "name": "stderr",
     "output_type": "stream",
     "text": [
      " 60%|██████    | 12/20 [00:48<00:34,  4.25s/it]"
     ]
    },
    {
     "name": "stdout",
     "output_type": "stream",
     "text": [
      "epoch : 11 | train_loss : 0.25  | test loss : 0.23 , test acc : 0.92\n",
      "Epoch : 12\n",
      "-----\n",
      "looked at 0/10000 samples\n"
     ]
    },
    {
     "name": "stderr",
     "output_type": "stream",
     "text": [
      " 65%|██████▌   | 13/20 [00:53<00:30,  4.31s/it]"
     ]
    },
    {
     "name": "stdout",
     "output_type": "stream",
     "text": [
      "epoch : 12 | train_loss : 0.25  | test loss : 0.24 , test acc : 0.91\n",
      "Epoch : 13\n",
      "-----\n",
      "looked at 0/10000 samples\n"
     ]
    },
    {
     "name": "stderr",
     "output_type": "stream",
     "text": [
      " 70%|███████   | 14/20 [00:57<00:26,  4.34s/it]"
     ]
    },
    {
     "name": "stdout",
     "output_type": "stream",
     "text": [
      "epoch : 13 | train_loss : 0.24  | test loss : 0.28 , test acc : 0.89\n",
      "Epoch : 14\n",
      "-----\n",
      "looked at 0/10000 samples\n"
     ]
    },
    {
     "name": "stderr",
     "output_type": "stream",
     "text": [
      " 75%|███████▌  | 15/20 [01:01<00:21,  4.30s/it]"
     ]
    },
    {
     "name": "stdout",
     "output_type": "stream",
     "text": [
      "epoch : 14 | train_loss : 0.24  | test loss : 0.25 , test acc : 0.91\n",
      "Epoch : 15\n",
      "-----\n",
      "looked at 0/10000 samples\n"
     ]
    },
    {
     "name": "stderr",
     "output_type": "stream",
     "text": [
      " 80%|████████  | 16/20 [01:06<00:17,  4.29s/it]"
     ]
    },
    {
     "name": "stdout",
     "output_type": "stream",
     "text": [
      "epoch : 15 | train_loss : 0.24  | test loss : 0.22 , test acc : 0.92\n",
      "Epoch : 16\n",
      "-----\n",
      "looked at 0/10000 samples\n"
     ]
    },
    {
     "name": "stderr",
     "output_type": "stream",
     "text": [
      " 85%|████████▌ | 17/20 [01:10<00:12,  4.30s/it]"
     ]
    },
    {
     "name": "stdout",
     "output_type": "stream",
     "text": [
      "epoch : 16 | train_loss : 0.23  | test loss : 0.26 , test acc : 0.90\n",
      "Epoch : 17\n",
      "-----\n",
      "looked at 0/10000 samples\n"
     ]
    },
    {
     "name": "stderr",
     "output_type": "stream",
     "text": [
      " 90%|█████████ | 18/20 [01:14<00:08,  4.28s/it]"
     ]
    },
    {
     "name": "stdout",
     "output_type": "stream",
     "text": [
      "epoch : 17 | train_loss : 0.23  | test loss : 0.24 , test acc : 0.92\n",
      "Epoch : 18\n",
      "-----\n",
      "looked at 0/10000 samples\n"
     ]
    },
    {
     "name": "stderr",
     "output_type": "stream",
     "text": [
      " 95%|█████████▌| 19/20 [01:18<00:04,  4.30s/it]"
     ]
    },
    {
     "name": "stdout",
     "output_type": "stream",
     "text": [
      "epoch : 18 | train_loss : 0.22  | test loss : 0.20 , test acc : 0.93\n",
      "Epoch : 19\n",
      "-----\n",
      "looked at 0/10000 samples\n"
     ]
    },
    {
     "name": "stderr",
     "output_type": "stream",
     "text": [
      "100%|██████████| 20/20 [01:23<00:00,  4.16s/it]"
     ]
    },
    {
     "name": "stdout",
     "output_type": "stream",
     "text": [
      "epoch : 19 | train_loss : 0.22  | test loss : 0.20 , test acc : 0.93\n"
     ]
    },
    {
     "name": "stderr",
     "output_type": "stream",
     "text": [
      "\n"
     ]
    },
    {
     "data": {
      "text/plain": [
       "83.20742699998664"
      ]
     },
     "execution_count": 117,
     "metadata": {},
     "output_type": "execute_result"
    }
   ],
   "source": [
    "torch.manual_seed(42)\n",
    "start_time = timer()\n",
    "#--------------------\n",
    "epochs = 20\n",
    "for epoch in tqdm(range(epochs)):\n",
    "    print(f\"Epoch : {epoch}\\n-----\")    \n",
    "    train_loss = 0\n",
    "    for batch , (image , label) in enumerate(train_dataloader):\n",
    "        model.train()\n",
    "        y_pred = model(image)\n",
    "        loss = loss_fn(y_pred , label)\n",
    "        train_loss = train_loss + loss #loss on one batch of data\n",
    "        optimizer.zero_grad()\n",
    "        loss.backward()\n",
    "        optimizer.step()\n",
    "\n",
    "        if batch %400 == 0:\n",
    "            print(f\"looked at {batch*len(image)}/{len(train_dataloader.dataset)} samples\")\n",
    "    train_loss = train_loss / len(train_dataloader) #loss by the whole train data\n",
    "\n",
    "    #testing\n",
    "    test_loss , test_acc = 0 , 0\n",
    "    model.eval()\n",
    "    with torch.inference_mode():\n",
    "        for image_test , label_test in test_dataloader:\n",
    "            test_pred = model(image_test)\n",
    "            test_loss = test_loss + loss_fn(test_pred , label_test)\n",
    "            test_acc  = test_acc  + acc(test_pred.argmax(dim = 1) , label_test)\n",
    "        test_loss = test_loss / len(test_dataloader) #test loss avg per batch\n",
    "        test_acc  = test_acc  / len(test_dataloader)\n",
    "    print(f\"epoch : {epoch} | train_loss : {train_loss:.2f}  | test loss : {test_loss:.2f} , test acc : {test_acc:.2f}\")\n",
    "#--------------------\n",
    "end_time = timer()\n",
    "total_train_time_model_0 = print_train_time(start_time , end_time)\n",
    "total_train_time_model_0"
   ]
  },
  {
   "cell_type": "code",
   "execution_count": 118,
   "metadata": {},
   "outputs": [
    {
     "name": "stderr",
     "output_type": "stream",
     "text": [
      "100%|██████████| 313/313 [00:00<00:00, 353.47it/s]\n"
     ]
    },
    {
     "data": {
      "text/plain": [
       "{'model_name': 'CNN',\n",
       " 'model_loss': 1.0371190309524536,\n",
       " 'model acc': tensor(0.8308)}"
      ]
     },
     "execution_count": 118,
     "metadata": {},
     "output_type": "execute_result"
    }
   ],
   "source": [
    "eval_model(model , test_dataloader,loss_fn , acc)"
   ]
  },
  {
   "cell_type": "code",
   "execution_count": 132,
   "metadata": {},
   "outputs": [],
   "source": [
    "def make_predictions(model , data):\n",
    "    pred_probs = []\n",
    "    model.eval()\n",
    "    with torch.inference_mode():\n",
    "        for sample in data:\n",
    "            sample = torch.unsqueeze(sample , dim = 0)\n",
    "            pred_logit = model(sample)\n",
    "            pred_prob = torch.softmax(pred_logit.squeeze() , dim= 0)\n",
    "            pred_probs.append(pred_prob)\n",
    "    return torch.stack(pred_probs)"
   ]
  },
  {
   "cell_type": "code",
   "execution_count": 161,
   "metadata": {},
   "outputs": [],
   "source": [
    "import random\n",
    "test_samples= []\n",
    "test_labels = []\n",
    "for sample , label in random.sample(list(test_data) , k = 20):\n",
    "    test_samples.append(sample)\n",
    "    test_labels.append(label)"
   ]
  },
  {
   "cell_type": "code",
   "execution_count": 162,
   "metadata": {},
   "outputs": [],
   "source": [
    "label = list(make_predictions(model , test_samples).argmax(dim = 1).numpy())"
   ]
  },
  {
   "cell_type": "code",
   "execution_count": 163,
   "metadata": {},
   "outputs": [
    {
     "data": {
      "text/plain": [
       "[0, 0, 7, 0, 8, 5, 9, 3, 4, 4, 1, 4, 5, 9, 3, 8, 5, 5, 0, 5]"
      ]
     },
     "execution_count": 163,
     "metadata": {},
     "output_type": "execute_result"
    }
   ],
   "source": [
    "label"
   ]
  },
  {
   "cell_type": "code",
   "execution_count": 164,
   "metadata": {},
   "outputs": [
    {
     "data": {
      "text/plain": [
       "[0, 0, 7, 0, 8, 5, 9, 3, 6, 4, 1, 4, 5, 9, 3, 8, 5, 5, 6, 5]"
      ]
     },
     "execution_count": 164,
     "metadata": {},
     "output_type": "execute_result"
    }
   ],
   "source": [
    "test_labels"
   ]
  },
  {
   "cell_type": "code",
   "execution_count": 165,
   "metadata": {},
   "outputs": [
    {
     "data": {
      "image/png": "[encoded data removed]",
      "text/plain": [
       "<Figure size 2000x1000 with 20 Axes>"
      ]
     },
     "metadata": {},
     "output_type": "display_data"
    }
   ],
   "source": [
    "plt.figure(figsize=(20 , 10))\n",
    "n_rows=4\n",
    "n_cols= 5\n",
    "for i , sample in enumerate(test_samples):\n",
    "    plt.subplot(n_rows , n_cols , i + 1)\n",
    "    plt.imshow(sample.squeeze() , cmap = \"gray\")\n",
    "    pred_label = class_names[label[i]]\n",
    "    truth_label = class_names[test_labels[i]]\n",
    "    title_Text = f\"pred : {pred_label} , truth : {truth_label}\"\n",
    "    if pred_label == truth_label:\n",
    "        plt.title(title_Text , fontsize = 10 , color = \"g\")\n",
    "    else:\n",
    "        plt.title(title_Text , fontsize = 10 , color = \"r\")"
   ]
  },
  {
   "cell_type": "code",
   "execution_count": 171,
   "metadata": {},
   "outputs": [],
   "source": [
    "import mlxtend #for conf matrix\n",
    "from mlxtend.plotting import plot_confusion_matrix\n",
    "from torchmetrics import ConfusionMatrix"
   ]
  },
  {
   "cell_type": "code",
   "execution_count": 169,
   "metadata": {},
   "outputs": [
    {
     "name": "stderr",
     "output_type": "stream",
     "text": [
      "Making predictions: 100%|██████████| 313/313 [00:01<00:00, 213.93it/s]\n"
     ]
    }
   ],
   "source": [
    "# 1. Make predictions with trained model\n",
    "y_preds = []\n",
    "model.eval()\n",
    "with torch.inference_mode():\n",
    "  for X, y in tqdm(test_dataloader, desc=\"Making predictions\"):\n",
    "    # Do the forward pass\n",
    "    y_logit = model(X)\n",
    "    # Turn predictions from logits -> prediction probabilities -> predictions labels\n",
    "    y_pred = torch.softmax(y_logit, dim=1).argmax(dim=1) # note: perform softmax on the \"logits\" dimension, not \"batch\" dimension (in this case we have a batch size of 32, so can perform on dim=1)\n",
    "    # Put predictions on CPU for evaluation\n",
    "    y_preds.append(y_pred.cpu())\n",
    "# Concatenate list of predictions into a tensor\n",
    "y_pred_tensor = torch.cat(y_preds)"
   ]
  },
  {
   "cell_type": "code",
   "execution_count": 176,
   "metadata": {},
   "outputs": [],
   "source": [
    "confmat = ConfusionMatrix(num_classes=len(class_names), task = \"multiclass\")\n",
    "confmat_tensor = confmat(preds = y_pred_tensor , target = test_data.targets)"
   ]
  },
  {
   "cell_type": "code",
   "execution_count": 175,
   "metadata": {},
   "outputs": [
    {
     "data": {
      "text/plain": [
       "tensor([9, 2, 1,  ..., 8, 1, 5])"
      ]
     },
     "execution_count": 175,
     "metadata": {},
     "output_type": "execute_result"
    }
   ],
   "source": [
    "test_data.targets"
   ]
  },
  {
   "cell_type": "code",
   "execution_count": 177,
   "metadata": {},
   "outputs": [
    {
     "data": {
      "text/plain": [
       "tensor([[942,   0,   3,  16,   2,   0,  37,   0,   0,   0],\n",
       "        [  1, 983,   0,  14,   0,   0,   2,   0,   0,   0],\n",
       "        [ 12,   0, 745,  10, 134,   0,  99,   0,   0,   0],\n",
       "        [ 13,   0,   1, 972,   2,   0,  12,   0,   0,   0],\n",
       "        [  2,   0,   6,  24, 918,   0,  50,   0,   0,   0],\n",
       "        [  1,   0,   0,   0,   0, 993,   0,   3,   2,   1],\n",
       "        [122,   1,  15,  22,  40,   0, 799,   0,   1,   0],\n",
       "        [  0,   0,   0,   0,   0,  10,   0, 951,   0,  39],\n",
       "        [  0,   0,   0,   5,   3,   0,   2,   0, 990,   0],\n",
       "        [  0,   0,   0,   0,   0,   0,   0,   2,   0, 998]])"
      ]
     },
     "execution_count": 177,
     "metadata": {},
     "output_type": "execute_result"
    }
   ],
   "source": [
    "confmat_tensor"
   ]
  },
  {
   "cell_type": "code",
   "execution_count": 180,
   "metadata": {},
   "outputs": [
    {
     "data": {
      "image/png": "[encoded data removed]",
      "text/plain": [
       "<Figure size 1000x700 with 1 Axes>"
      ]
     },
     "metadata": {},
     "output_type": "display_data"
    }
   ],
   "source": [
    "fig , ax = plot_confusion_matrix(\n",
    "    conf_mat = confmat_tensor.numpy(),\n",
    "    class_names = class_names,\n",
    "    figsize = (10,7)\n",
    ")"
   ]
  },
  {
   "cell_type": "code",
   "execution_count": 183,
   "metadata": {},
   "outputs": [
    {
     "data": {
      "text/plain": [
       "'D:\\\\data science\\\\fashion mnist dataset'"
      ]
     },
     "execution_count": 183,
     "metadata": {},
     "output_type": "execute_result"
    }
   ],
   "source": [
    "os.getcwd()"
   ]
  },
  {
   "cell_type": "code",
   "execution_count": 185,
   "metadata": {},
   "outputs": [],
   "source": [
    "model_path = 'D:\\\\data science\\\\fashion mnist dataset\\\\fashion_model.pth'"
   ]
  },
  {
   "cell_type": "code",
   "execution_count": 186,
   "metadata": {},
   "outputs": [],
   "source": [
    "torch.save(obj= model.state_dict, f = model_path)"
   ]
  }
 ],
 "metadata": {
  "kernelspec": {
   "display_name": "base",
   "language": "python",
   "name": "python3"
  },
  "language_info": {
   "codemirror_mode": {
    "name": "ipython",
    "version": 3
   },
   "file_extension": ".py",
   "mimetype": "text/x-python",
   "name": "python",
   "nbconvert_exporter": "python",
   "pygments_lexer": "ipython3",
   "version": "3.11.4"
  }
 },
 "nbformat": 4,
 "nbformat_minor": 2
}
